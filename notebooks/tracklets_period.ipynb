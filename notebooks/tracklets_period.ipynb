{
 "cells": [
  {
   "cell_type": "markdown",
   "metadata": {},
   "source": [
    "# Rotation period of tracklets\n",
    "\n",
    "In this notebook, we try to estimate the rotation period of tracklets around the Earth"
   ]
  },
  {
   "cell_type": "code",
   "execution_count": 636,
   "metadata": {},
   "outputs": [
    {
     "name": "stdout",
     "output_type": "stream",
     "text": [
      "The autoreload extension is already loaded. To reload it, use:\n",
      "  %reload_ext autoreload\n"
     ]
    }
   ],
   "source": [
    "%reset -f\n",
    "%matplotlib inline\n",
    "%load_ext autoreload\n",
    "%autoreload 2\n",
    "\n",
    "import matplotlib.pyplot as plt\n",
    "import seaborn as sns\n",
    "sns.set_context('talk')\n",
    "\n",
    "import numpy as np\n",
    "\n",
    "from tqdm.auto import tqdm\n",
    "\n",
    "from astropy.table import Table, vstack\n",
    "from astropy.time import Time\n",
    "from astropy import units as u\n",
    "from astropy.coordinates import SkyCoord, concatenate, get_sun\n",
    "\n",
    "from fink_science.conversion import dc_mag"
   ]
  },
  {
   "cell_type": "markdown",
   "metadata": {},
   "source": [
    "## Tracklet identification\n",
    "\n",
    "Let's load the raw tracklet data from Fink (initial candidates) for the year 2020"
   ]
  },
  {
   "cell_type": "code",
   "execution_count": 637,
   "metadata": {},
   "outputs": [
    {
     "data": {
      "text/plain": [
       "489755"
      ]
     },
     "execution_count": 637,
     "metadata": {},
     "output_type": "execute_result"
    }
   ],
   "source": [
    "from fastparquet import ParquetFile\n",
    "\n",
    "pdt = ParquetFile('ufo_fink_2020_consolidated/part-00000-bd9449f3-af4a-49e8-aa7c-4bdbf1cce3e4-c000.snappy.parquet').to_pandas()\n",
    "\n",
    "table = Table.from_pandas(pdt)\n",
    "\n",
    "# We keep only candidates with 1 detection\n",
    "table = table[table['ndethist'] == 1]\n",
    "len(table)"
   ]
  },
  {
   "cell_type": "markdown",
   "metadata": {},
   "source": [
    "Based on Sergey's analysis, let's limit the analysis to the candidates outside the locus of bad subtractions"
   ]
  },
  {
   "cell_type": "code",
   "execution_count": 638,
   "metadata": {},
   "outputs": [],
   "source": [
    "idx = table['magnr'] - table['magpsf'] < 3.0*np.hypot(table['sigmagnr'], table['sigmapsf'])\n",
    "idx &= table['magnr'] - table['magpsf'] < -4*(np.log10(table['distnr']) + 0.2)\n",
    "idx &= table['distnr'] < 2\n",
    "\n",
    "table1 = table[~idx]"
   ]
  },
  {
   "cell_type": "markdown",
   "metadata": {},
   "source": [
    "Let's now extract all groups of candidates laying along great circles - tracklets -- having at least 5 points using Sergey's extraction method. The criterion will be the distance from great circle less than 1 arcsecond. As a candidate circles, we will use all possible circles passing through pairs of points."
   ]
  },
  {
   "cell_type": "code",
   "execution_count": 639,
   "metadata": {},
   "outputs": [
    {
     "data": {
      "application/vnd.jupyter.widget-view+json": {
       "model_id": "959edc3e356c4b85b612936dfb316156",
       "version_major": 2,
       "version_minor": 0
      },
      "text/plain": [
       "  0%|          | 0/272 [00:00<?, ?it/s]"
      ]
     },
     "metadata": {},
     "output_type": "display_data"
    }
   ],
   "source": [
    "N = 0\n",
    "\n",
    "# Boolean\n",
    "table1['tracklet'] = False\n",
    "\n",
    "# Integer - container for tracklet designation\n",
    "table1['tracklet_number'] = 0\n",
    "\n",
    "tracklets = []\n",
    "\n",
    "key = 'nid' # Analyse night at once\n",
    "# key = 'jd' # Analyse single frames\n",
    "\n",
    "for nid in tqdm(sorted(np.unique(table1[key]))[:]):\n",
    "    idx = table1[key] == nid\n",
    "\n",
    "    sub = table1[idx] # Subset of objects from this exposure\n",
    "    coords = SkyCoord(sub['ra'], sub['dec'], unit='deg') # Coordinates of the objects\n",
    "    xyz = coords.cartesian\n",
    "    xyz = xyz.xyz.value.T # unit vectors corresponding to the points, Nx3\n",
    "    \n",
    "    if len(sub) < 5:\n",
    "        continue\n",
    "\n",
    "    # Levi-Civitta symbol\n",
    "    eijk = np.zeros((3, 3, 3))\n",
    "    eijk[0, 1, 2] = eijk[1, 2, 0] = eijk[2, 0, 1] = 1\n",
    "    eijk[0, 2, 1] = eijk[2, 1, 0] = eijk[1, 0, 2] = -1\n",
    "\n",
    "    circles = np.einsum('ijk,uj,vk->uvi', eijk, xyz, xyz, optimize=True) # cross-products, NxNx3\n",
    "    norms = np.sqrt(np.einsum('uvi,uvi->uv', circles, circles, optimize=True)) # norms, i.e. arc sine lengths, NxN\n",
    "    norms = np.tril(norms) # Remove redundant entries corresponding to the symmetry on point swapping\n",
    "\n",
    "    norm_idx = norms > 10/206265 # Pairs with angular separation larger than 10 arcsec, NxN\n",
    "    \n",
    "    circles[norms==0,:] = 0\n",
    "    circles[norms>0,:] /= norms[norms>0,np.newaxis] # normals to great circles, NxNx3\n",
    "\n",
    "    cidxs = [] # Sets of points along great circles \n",
    "    \n",
    "    for i,point in enumerate(xyz):\n",
    "        sindists = np.einsum('vi,ki->vk', circles[i], xyz, optimize=True) # sine distance from the great circle\n",
    "        sin_idx = np.abs(sindists) < 1/206265 # Good distances from great circles, NxN\n",
    "\n",
    "        nps = np.einsum('uv->u', (norm_idx[i,:,np.newaxis] & sin_idx).astype(np.int8), optimize=True) # Numbers of points along each great circle, N\n",
    "        np_idx = nps >= 5\n",
    "\n",
    "        cidxs += list(sin_idx[np_idx])\n",
    "        \n",
    "    uniq = np.unique(cidxs, axis=0)\n",
    "    aidx = np.argsort([-np.sum(_) for _ in uniq])\n",
    "\n",
    "    used = np.zeros(len(sub), dtype=bool)\n",
    "\n",
    "    for index_tracklet, cidx in enumerate(uniq[aidx]):\n",
    "        # First we need to reject the tracklets mostly superceded by longer ones\n",
    "        if np.sum(cidx[~used]) < 5: \n",
    "            # TODO: should we try to greedily merge the extra points into already known tracks?\n",
    "            continue \n",
    "\n",
    "        used[cidx] = True\n",
    "        N += 1\n",
    "\n",
    "        table1['tracklet'][np.where(idx)[0][cidx]] = True\n",
    "        table1['tracklet_number'][np.where(idx)[0][cidx]] = index_tracklet\n",
    "        \n",
    "        tracklets.append(np.where(idx)[0][cidx])"
   ]
  },
  {
   "cell_type": "code",
   "execution_count": 640,
   "metadata": {},
   "outputs": [],
   "source": [
    "# Index for candidates belonging to tracklets\n",
    "cidx = table1['tracklet'] "
   ]
  },
  {
   "cell_type": "markdown",
   "metadata": {},
   "source": [
    "## Period extraction"
   ]
  },
  {
   "cell_type": "code",
   "execution_count": 641,
   "metadata": {},
   "outputs": [],
   "source": [
    "def extract_properties(ra, dec, t):\n",
    "    \"\"\" Rough position & time for tracklets\n",
    "    \n",
    "    Parameters\n",
    "    ----------\n",
    "    ra: array\n",
    "        Array of RA (deg)\n",
    "    dec: array\n",
    "        Array of Dec (deg)\n",
    "    t: float\n",
    "        Julian Date for the tracklet\n",
    "        \n",
    "    Returns\n",
    "    ----------\n",
    "    mean_ra: float\n",
    "        Mean RA value\n",
    "    mean_dec: float\n",
    "        Mean Dec value\n",
    "    time_iso: str\n",
    "        Time in the ISO format\n",
    "    \"\"\"\n",
    "    mean_ra = np.max(ra)\n",
    "    mean_dec = np.max(dec)\n",
    "    time_iso = Time(t, format='jd').iso\n",
    "    return mean_ra, mean_dec, time_iso\n",
    "\n",
    "def apparent_to_absolute(magapp, jd, ra, dec):\n",
    "    \"\"\" Compute absolute magnitude from apparent magnitude\n",
    "    \n",
    "    Parameters\n",
    "    ----------\n",
    "    magapp: array\n",
    "        Apparent magnitudes of alerts\n",
    "    jd: array\n",
    "        Times (JD) of alerts\n",
    "    ra: array\n",
    "        RA of alerts (deg)\n",
    "    dec: array\n",
    "        Dec of alerts (deg)\n",
    "        \n",
    "    Returns\n",
    "    ----------\n",
    "    magabs: array\n",
    "        Absolute magnitude of alerts\n",
    "    \"\"\"\n",
    "    sun_pos = get_sun(Time(jd, format='jd'))\n",
    "    sun_dists = sun_pos.separation(SkyCoord(ra, dec, unit='deg')).rad\n",
    "    \n",
    "    denominator = np.sin(sun_dists) + (np.pi - sun_dists) * np.cos(sun_dists)\n",
    "    magabs = magapp - 5 * np.log10(np.pi / denominator)\n",
    "    return magabs\n",
    "\n",
    "def fake_lambertian_size(magabs, msun, distance, albedo):\n",
    "    \"\"\" Try to estimate the size of an object using Lambertian formula\n",
    "    \n",
    "    Parameters\n",
    "    ----------\n",
    "    magabs: array\n",
    "        Absolute magnitudes of alerts\n",
    "    msun: float\n",
    "        Apparent magnitude of the Sun\n",
    "    distance: array\n",
    "        Distance between the object and us [km]\n",
    "    albedo: float\n",
    "        Albedo - take 0.175 (2012.12549)\n",
    "    \"\"\"\n",
    "    return 10**((msun - magabs)/5.) * distance * np.sqrt(6/albedo)\n",
    "\n",
    "def get_period(velocity):\n",
    "    \"\"\" Compute rotation period over Earth of an object given its velocity\n",
    "    \n",
    "    Parameters\n",
    "    ----------\n",
    "    velocity: float or array\n",
    "        Velocity of object(s) in deg/`time`\n",
    "        \n",
    "    Returns\n",
    "    ----------\n",
    "    period: float or array\n",
    "        Period in `time`\n",
    "    \"\"\"\n",
    "    return 360. / velocity\n",
    "\n",
    "def get_velocity_bystep(data, single_exposure_time = 30., min_alert_per_exposure = 1):\n",
    "    \"\"\" Estimate the velocity of the tracklet in deg/hour\n",
    "    \n",
    "    If the tracklet spans several exposures, the user can discard exposures\n",
    "    with not enough points (min_alert_per_exposure). Exposure with less than 2 points \n",
    "    are usually not reliable (even if the entire tracklet has many points). Note that the \n",
    "    total tracklet must still have at least 5 alerts to be processed (otherwise it is discarded).\n",
    "    \n",
    "    To compute the velocity, we integrate the distance between subsequent measurements:\n",
    "    v = sum_i[x(i+1) - x(i)] / dt, i=alert\n",
    "    where dt is the time between jdstart(first exposure) & jdstart(last exposure) + last exposure time\n",
    "    \n",
    "    Parameters\n",
    "    ----------\n",
    "    data: Table\n",
    "        table containing all the data for one tracklet\n",
    "    single_exposure_time: float\n",
    "        ZTF exposure time. Default is 30 seconds.\n",
    "    min_alert_per_exposure: int\n",
    "        Minimum alerts per exposure to consider the exposure data as valid. Exposure \n",
    "        with less data points will be discarded from the analysis. If the total \n",
    "        number of points in the tracklets becomes less than 5, the entire tracklet\n",
    "        is discarded.\n",
    "        \n",
    "    Returns\n",
    "    ----------\n",
    "    velocity: float or NaN\n",
    "        Velocity in deg/hour. Invalid tracklets return NaN.\n",
    "    \"\"\"\n",
    "    # Initialise the trajectory\n",
    "    length = 0.0\n",
    "    \n",
    "    # Get unique exposure\n",
    "    jd_unique = np.unique(data['jd']).data\n",
    "    n_exposure = len(jd_unique)\n",
    "    \n",
    "    # Treat the case where tracklets span several exposures\n",
    "    mask_exposure = np.ones_like(data['jd'], dtype=bool)\n",
    "\n",
    "    if n_exposure > 1:\n",
    "        # remove exposures with nalert < min_alert_per_exposure\n",
    "        for k in jd_unique:\n",
    "            mask_ = data['jd'] == k\n",
    "            l = np.sum(mask_)\n",
    "            if l < min_alert_per_exposure:\n",
    "                mask_exposure[mask_] = False\n",
    "        \n",
    "        # Discard if there are not enough alerts left (we want a total of 5 at least)\n",
    "        if np.sum(mask_exposure) <= 5:\n",
    "            return np.nan\n",
    "        \n",
    "        # Compute the time lapse between the start of the first and last exposure (0 if the same exposure)\n",
    "        delta_jd_second = (\n",
    "            np.max(data['jd'][mask_exposure]) - np.min(data['jd'][mask_exposure])\n",
    "        ) * 24. * 3600.\n",
    "\n",
    "        # add the last exposure time\n",
    "        single_exposure_time = delta_jd_second + 30.\n",
    "    \n",
    "    # Sort data, and integrate the trajectory\n",
    "    data.sort('ra')\n",
    "    for i in range(len(data[mask_exposure]) - 1):\n",
    "        first = SkyCoord(data['ra'][mask_exposure][i], data['dec'][mask_exposure][i], unit='deg')\n",
    "        last = SkyCoord(data['ra'][mask_exposure][i+1], data['dec'][mask_exposure][i+1], unit='deg')\n",
    "        length += first.separation(last).degree\n",
    "        \n",
    "    # return the velocity in deg/hour\n",
    "    return length / (single_exposure_time / 3600.)\n",
    "\n",
    "def get_class_from_period(period):\n",
    "    \"\"\" Rough classification based on the rotation period.\n",
    "    \n",
    "    LEO: P < 2.2 hours\n",
    "    MEO: 2.2 <= P < 23 hours\n",
    "    GEO: 23 <= P < 25 hours\n",
    "    Unknown: P >= 25 hours\n",
    "    \n",
    "    Taken from 2012.12549\n",
    "    \n",
    "    Parameters\n",
    "    ----------\n",
    "    period: float\n",
    "        Rotation period\n",
    "    \n",
    "    Returns\n",
    "    ----------\n",
    "    class: str\n",
    "        Class among: LEO, MEO, GEO, or Unknown\n",
    "    \"\"\"\n",
    "    if period < 2.2:\n",
    "        return 'LEO'\n",
    "    elif (period >= 2.2) and (period < 23):\n",
    "        return 'MEO'\n",
    "    elif (period >= 23) and (period < 25):\n",
    "        return 'GEO'\n",
    "    else:\n",
    "        return 'Unknown'"
   ]
  },
  {
   "cell_type": "markdown",
   "metadata": {},
   "source": [
    "Loop over nights, and over tracklets to extract the velocity (and other parameters). Note we require a minimum number of 3 alerts per exposure within a tracklet (and the tracklet needs at least 5 alerts):"
   ]
  },
  {
   "cell_type": "code",
   "execution_count": 642,
   "metadata": {},
   "outputs": [],
   "source": [
    "vels = []\n",
    "magabs = []\n",
    "jds = []\n",
    "nids = []\n",
    "data = table1[cidx]\n",
    "\n",
    "# Loop over nights\n",
    "for n in np.unique(data['nid']):\n",
    "    maskNight = data['nid'] == n\n",
    "    \n",
    "    # Loop over tracklets inside a night\n",
    "    for k in np.unique(data[maskNight]['tracklet_number']):\n",
    "        maskTracklet = data['tracklet_number'] == k\n",
    "        mask = maskTracklet * maskNight\n",
    "\n",
    "        # Extract velocity\n",
    "        vel = get_velocity_bystep(\n",
    "            data[mask], \n",
    "            single_exposure_time=30., \n",
    "            min_alert_per_exposure=3\n",
    "        )\n",
    "        vels.append(vel)\n",
    "        \n",
    "        # Extract absolute magnitude\n",
    "        mag, err = np.array(\n",
    "            [\n",
    "                dc_mag(*i) for i in zip(\n",
    "                    data[mask]['fid'],\n",
    "                    data[mask]['magpsf'],\n",
    "                    data[mask]['sigmapsf'],\n",
    "                    data[mask]['magnr'],\n",
    "                    data[mask]['sigmagnr'],\n",
    "                    data[mask]['magzpsci'],\n",
    "                    data[mask]['isdiffpos'],\n",
    "                )\n",
    "            ]\n",
    "        ).T\n",
    "        \n",
    "        magabs_ = apparent_to_absolute(\n",
    "            mag, \n",
    "            data['jd'][mask],\n",
    "            data['ra'][mask],\n",
    "            data['dec'][mask],\n",
    "        )\n",
    "        magabs.append(magabs_)\n",
    "        \n",
    "        # Extract jd and nid\n",
    "        jds.append(data['jd'][mask])\n",
    "        nids.append(data['nid'][mask][0])\n",
    "    "
   ]
  },
  {
   "cell_type": "code",
   "execution_count": 643,
   "metadata": {},
   "outputs": [
    {
     "name": "stdout",
     "output_type": "stream",
     "text": [
      "56.88 % of tracklets survived velocity computation\n",
      "56.23 % of tracklets survived velocity computation with more than 5 measurements\n"
     ]
    }
   ],
   "source": [
    "lengthTracklet = np.array([len(i) for i in magabs])\n",
    "threshold = 5\n",
    "maskSize = lengthTracklet >= threshold\n",
    "\n",
    "print(\n",
    "    '{:.2f} % of tracklets survived velocity computation'.format(\n",
    "        np.sum(~np.isnan(vels)) / len(lengthTracklet) * 100\n",
    "    )\n",
    ")\n",
    "\n",
    "print(\n",
    "    '{:.2f} % of tracklets survived velocity computation with more than {} measurements'.format(\n",
    "        np.sum(~np.isnan(vels)[maskSize]) / len(lengthTracklet) * 100, \n",
    "        threshold\n",
    "    )\n",
    ")"
   ]
  },
  {
   "cell_type": "markdown",
   "metadata": {},
   "source": [
    "Only half of the found tracklets survived the velocity computation. Let's see the distribution of periods:"
   ]
  },
  {
   "cell_type": "code",
   "execution_count": 653,
   "metadata": {},
   "outputs": [
    {
     "name": "stderr",
     "output_type": "stream",
     "text": [
      "/Users/julien/anaconda3/lib/python3.7/site-packages/ipykernel_launcher.py:1: RuntimeWarning: divide by zero encountered in true_divide\n",
      "  \"\"\"Entry point for launching an IPython kernel.\n"
     ]
    },
    {
     "data": {
      "text/plain": [
       "Text(0.5, 1.0, 'period = 360 [deg] / distance [deg] * $t_{exposure}$[hours]')"
      ]
     },
     "execution_count": 653,
     "metadata": {},
     "output_type": "execute_result"
    },
    {
     "data": {
      "image/png": "[encoded data removed]",
      "text/plain": [
       "<Figure size 1080x360 with 1 Axes>"
      ]
     },
     "metadata": {
      "needs_background": "light"
     },
     "output_type": "display_data"
    }
   ],
   "source": [
    "periods = 360. / np.array(vels)\n",
    "\n",
    "fig = plt.figure(figsize=(15, 5))\n",
    "plt.hist(periods[maskSize], bins=100)\n",
    "\n",
    "plt.axvline(2.2, ls='--', color='C3')\n",
    "plt.axvline(24, ls='--', color='C3')\n",
    "\n",
    "plt.text(3, 300, 'LEO (P < 2.2 hours)')\n",
    "plt.text(24, 100, 'GEO (P = 24 hours)')\n",
    "plt.text(80, 5, '???')\n",
    "\n",
    "plt.yscale('log')\n",
    "# plt.xlim(0, None)\n",
    "plt.xlabel('Period (hours)')\n",
    "plt.title(r'period = 360 [deg] / distance [deg] * $t_{exposure}$[hours]')"
   ]
  },
  {
   "cell_type": "code",
   "execution_count": 659,
   "metadata": {},
   "outputs": [
    {
     "name": "stdout",
     "output_type": "stream",
     "text": [
      "Distribution of classes:\n",
      "- LEO: 22.68 %\n",
      "- MEO: 14.74 %\n",
      "- GEO: 5.66 %\n",
      "- Unknown: 56.93 %\n"
     ]
    }
   ],
   "source": [
    "classes = np.array([get_class_from_period(period) for period in periods])\n",
    "\n",
    "print('Distribution of classes:')\n",
    "print('- LEO: {:.2f} %'.format(np.sum(classes == 'LEO')/len(classes) * 100))\n",
    "print('- MEO: {:.2f} %'.format(np.sum(classes == 'MEO')/len(classes) * 100))\n",
    "print('- GEO: {:.2f} %'.format(np.sum(classes == 'GEO')/len(classes) * 100))\n",
    "print('- Unknown: {:.2f} %'.format(np.sum(classes == 'Unknown')/len(classes) * 100))"
   ]
  },
  {
   "cell_type": "markdown",
   "metadata": {},
   "source": [
    "## Characteristic length estimation\n",
    "\n",
    "Let's try to estimate the characteristic length of objects, $L_c$. Assuming the object is a Lambertian sphere, we have:\n",
    "\n",
    "$L_c = 10^{(m_{sun} - m_{abs})/5} \\dfrac{R}{\\sqrt{A}}\\sqrt{6}$ \n",
    "\n",
    "where $m_{sun}$ is the apparent magnitude of the Sun, $m_{abs}$ is the absolute magnitude of the object, $R$ is the distance object-Earth, and $A$ is the albedo. Of course, we do not know the distance $R$, but we can roughly infer it from the rotation period. Let's assume:\n",
    "\n",
    "- LEO: R=1,000 km\n",
    "- MEO: R=10,000 km\n",
    "- GEO: R=42,000 km\n",
    "\n",
    "This is by no means precise, but rather order of magnitudes... For the albedo, we will assume $A=0.175$ (from https://arxiv.org/abs/2012.12549)"
   ]
  },
  {
   "cell_type": "code",
   "execution_count": 660,
   "metadata": {},
   "outputs": [
    {
     "name": "stderr",
     "output_type": "stream",
     "text": [
      "/Users/julien/anaconda3/lib/python3.7/site-packages/ipykernel_launcher.py:9: VisibleDeprecationWarning: Creating an ndarray from ragged nested sequences (which is a list-or-tuple of lists-or-tuples-or ndarrays with different lengths or shapes) is deprecated. If you meant to do this, you must specify 'dtype=object' when creating the ndarray\n",
      "  if __name__ == '__main__':\n"
     ]
    }
   ],
   "source": [
    "distance_dic = {'LEO': 1000., 'MEO': 20000., 'GEO': 42000., 'Unknown': np.nan}\n",
    "\n",
    "sizes = np.array(\n",
    "    [\n",
    "        np.median(\n",
    "            fake_lambertian_size(\n",
    "                i, -26.7, distance_dic[j], 0.175\n",
    "            )*1000\n",
    "        ) for i, j in zip(np.array(magabs)[maskSize], classes[maskSize])\n",
    "    ]\n",
    ")"
   ]
  },
  {
   "cell_type": "code",
   "execution_count": 666,
   "metadata": {
    "scrolled": false
   },
   "outputs": [
    {
     "data": {
      "text/plain": [
       "Text(0.5, 0, 'Characteristic length $L_c$ [meter]')"
      ]
     },
     "execution_count": 666,
     "metadata": {},
     "output_type": "execute_result"
    },
    {
     "data": {
      "image/png": "[encoded data removed]",
      "text/plain": [
       "<Figure size 1080x360 with 1 Axes>"
      ]
     },
     "metadata": {
      "needs_background": "light"
     },
     "output_type": "display_data"
    }
   ],
   "source": [
    "mask = ~np.isnan(sizes) #* (sizes < 10)\n",
    "\n",
    "fig = plt.figure(figsize=(15, 5))\n",
    "\n",
    "plt.hist(sizes[mask], bins=100, label='median={:.2f} meters'.format(np.median(sizes[mask])))\n",
    "\n",
    "plt.yscale('log')\n",
    "plt.legend()\n",
    "plt.xlabel(r'Characteristic length $L_c$ [meter]')"
   ]
  },
  {
   "cell_type": "code",
   "execution_count": 665,
   "metadata": {},
   "outputs": [
    {
     "data": {
      "text/plain": [
       "Text(0.5, 0, 'Characteristic length $L_c$ [meter]')"
      ]
     },
     "execution_count": 665,
     "metadata": {},
     "output_type": "execute_result"
    },
    {
     "data": {
      "image/png": "[encoded data removed]",
      "text/plain": [
       "<Figure size 1080x360 with 1 Axes>"
      ]
     },
     "metadata": {
      "needs_background": "light"
     },
     "output_type": "display_data"
    }
   ],
   "source": [
    "mask = ~np.isnan(sizes) * (sizes < 10)\n",
    "\n",
    "fig = plt.figure(figsize=(15, 5))\n",
    "\n",
    "plt.hist(sizes[mask], bins=100, label='median={:.2f} meters'.format(np.median(sizes[mask])))\n",
    "\n",
    "plt.yscale('log')\n",
    "plt.legend()\n",
    "plt.title(r'cutoff at $L_c$ = 10 meters')\n",
    "plt.xlabel(r'Characteristic length $L_c$ [meter]')"
   ]
  },
  {
   "cell_type": "markdown",
   "metadata": {},
   "source": [
    "We have objects around 14 cm diameter - quite small! Some seems bigger, but I wouldn't really trust this computation..."
   ]
  },
  {
   "cell_type": "code",
   "execution_count": 683,
   "metadata": {},
   "outputs": [],
   "source": [
    "# ii = np.where(sizes[mask] > 100)\n",
    "# np.array(classes)[maskSize][mask][ii]\n",
    "# np.array(nids)[maskSize][mask][ii], np.array(jds)[maskSize][mask][ii]"
   ]
  },
  {
   "cell_type": "markdown",
   "metadata": {},
   "source": [
    "## Plotting nightly data\n",
    "\n",
    "Just change the night ID `n` to show the tracklets for one night, and remove the `set_ylim`, `set_xlim` below. here is an interesting one!"
   ]
  },
  {
   "cell_type": "code",
   "execution_count": 684,
   "metadata": {
    "scrolled": false
   },
   "outputs": [
    {
     "name": "stdout",
     "output_type": "stream",
     "text": [
      "-------\n",
      "Number of alerts: 55\n",
      "velocity (deg/hour): 105.98\n",
      "period (hour): 3.40\n",
      "0\n",
      "-------\n",
      "Number of alerts: 63\n",
      "velocity (deg/hour): 189.51\n",
      "period (hour): 1.90\n",
      "795\n",
      "-------\n",
      "Number of alerts: 11\n",
      "velocity (deg/hour): 186.36\n",
      "period (hour): 1.93\n",
      "1265\n"
     ]
    },
    {
     "data": {
      "image/png": "[encoded data removed]",
      "text/plain": [
       "<Figure size 1080x720 with 2 Axes>"
      ]
     },
     "metadata": {
      "needs_background": "light"
     },
     "output_type": "display_data"
    }
   ],
   "source": [
    "data = table1[cidx]\n",
    "n = 1245\n",
    "\n",
    "fig, ax = plt.subplots(2, 1, figsize=(15, 10), sharex=True)\n",
    "maskNight = data['nid'] == n\n",
    "for k in np.unique(data[maskNight]['tracklet_number']):\n",
    "    maskTracklet = data['tracklet_number'] == k\n",
    "    mask = maskTracklet * maskNight\n",
    "\n",
    "    ramean, decmean, t_iso = extract_properties(\n",
    "        data['ra'][mask], \n",
    "        data['dec'][mask], \n",
    "        data['jd'][mask][0]\n",
    "    )\n",
    "\n",
    "    ax[0].scatter(\n",
    "        data['ra'][mask], \n",
    "        data['dec'][mask], \n",
    "        marker='.'\n",
    "    )\n",
    "\n",
    "    vel = get_velocity_bystep(data[mask])\n",
    "    print('-------')\n",
    "    print('Number of alerts: {}'.format(np.sum(mask)))\n",
    "    print('velocity (deg/hour): {:.2f}'.format(vel))\n",
    "    period = get_period(vel)\n",
    "    print('period (hour): {:.2f}'.format(period))\n",
    "    print(data[mask]['tracklet_number'][0])\n",
    "\n",
    "    mag, err = np.array(\n",
    "        [\n",
    "            dc_mag(*i) for i in zip(\n",
    "                data[mask]['fid'],\n",
    "                data[mask]['magpsf'],\n",
    "                data[mask]['sigmapsf'],\n",
    "                data[mask]['magnr'],\n",
    "                data[mask]['sigmagnr'],\n",
    "                data[mask]['magzpsci'],\n",
    "                data[mask]['isdiffpos'],\n",
    "            )\n",
    "        ]\n",
    "    ).T\n",
    "\n",
    "    magabs_ = apparent_to_absolute(\n",
    "        mag, \n",
    "        data['jd'][mask][0],\n",
    "        data['ra'][mask],\n",
    "        data['dec'][mask],\n",
    "    )\n",
    "\n",
    "    ax[1].errorbar(\n",
    "            data['ra'][mask], \n",
    "            magabs_, \n",
    "            err, \n",
    "            marker='.', ls=''\n",
    "    )\n",
    "\n",
    "ax[0].set_ylabel('DEC')\n",
    "ax[0].grid(alpha=0.5, ls='--')\n",
    "ax[0].set_ylim(-20, -10)\n",
    "\n",
    "ax[1].set_xlabel('RA')\n",
    "ax[1].set_ylabel('apparent magnitude')\n",
    "ax[1].set_xlim(174.2, 175)\n",
    "\n",
    "plt.gca().invert_xaxis()\n",
    "ax[1].invert_yaxis()\n",
    "ax[1].grid(alpha=0.5, ls='--')\n",
    "plt.show()"
   ]
  },
  {
   "cell_type": "code",
   "execution_count": null,
   "metadata": {},
   "outputs": [],
   "source": []
  }
 ],
 "metadata": {
  "kernelspec": {
   "display_name": "Python 3",
   "language": "python",
   "name": "python3"
  },
  "language_info": {
   "codemirror_mode": {
    "name": "ipython",
    "version": 3
   },
   "file_extension": ".py",
   "mimetype": "text/x-python",
   "name": "python",
   "nbconvert_exporter": "python",
   "pygments_lexer": "ipython3",
   "version": "3.7.1"
  }
 },
 "nbformat": 4,
 "nbformat_minor": 2
}
