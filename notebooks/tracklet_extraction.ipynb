{
 "cells": [
  {
   "cell_type": "markdown",
   "metadata": {},
   "source": [
    "# Tracklet extraction"
   ]
  },
  {
   "cell_type": "code",
   "execution_count": 1,
   "metadata": {},
   "outputs": [
    {
     "name": "stderr",
     "output_type": "stream",
     "text": [
      "/Users/julien/anaconda3/lib/python3.7/site-packages/fastparquet/dataframe.py:5: FutureWarning: pandas.core.index is deprecated and will be removed in a future version.  The public classes are available in the top-level namespace.\n",
      "  from pandas.core.index import CategoricalIndex, RangeIndex, Index, MultiIndex\n"
     ]
    }
   ],
   "source": [
    "%reset -f\n",
    "%matplotlib inline\n",
    "%load_ext autoreload\n",
    "%autoreload 2\n",
    "\n",
    "import matplotlib.pyplot as plt\n",
    "import seaborn as sns\n",
    "sns.set_context('talk')\n",
    "\n",
    "import numpy as np\n",
    "import glob\n",
    "import os\n",
    "\n",
    "from tqdm.auto import tqdm\n",
    "\n",
    "from astropy.table import Table, vstack\n",
    "from astropy.time import Time\n",
    "from astropy import units as u\n",
    "from astropy.coordinates import SkyCoord, concatenate, get_sun\n",
    "from fastparquet import ParquetFile\n",
    "\n",
    "\n",
    "from fink_science.conversion import dc_mag"
   ]
  },
  {
   "cell_type": "markdown",
   "metadata": {},
   "source": [
    "## Tracklet identification\n",
    "\n",
    "Let's load the raw tracklet data from Fink (initial candidates) for the year 2020"
   ]
  },
  {
   "cell_type": "code",
   "execution_count": 25,
   "metadata": {},
   "outputs": [
    {
     "data": {
      "text/plain": [
       "127442"
      ]
     },
     "execution_count": 25,
     "metadata": {},
     "output_type": "execute_result"
    }
   ],
   "source": [
    "# change for different dates\n",
    "basepath = 'ufo_fink_2019_consolidated/'\n",
    "\n",
    "filename = glob.glob(os.path.join(basepath, 'part-*.parquet'))\n",
    "pdt = pd.read_parquet(filename[0]) \n",
    "#ParquetFile(filename[0]).to_pandas()\n",
    "\n",
    "table = Table.from_pandas(pdt)\n",
    "\n",
    "# We keep only candidates with 1 detection\n",
    "table = table[table['ndethist'] == 1]\n",
    "len(table)"
   ]
  },
  {
   "cell_type": "markdown",
   "metadata": {},
   "source": [
    "Based on Sergey's analysis, let's limit the analysis to the candidates outside the locus of bad subtractions"
   ]
  },
  {
   "cell_type": "code",
   "execution_count": 26,
   "metadata": {},
   "outputs": [],
   "source": [
    "idx = table['magnr'] - table['magpsf'] < 3.0*np.hypot(table['sigmagnr'], table['sigmapsf'])\n",
    "idx &= table['magnr'] - table['magpsf'] < -4*(np.log10(table['distnr']) + 0.2)\n",
    "idx &= table['distnr'] < 2\n",
    "\n",
    "table1 = table[~idx]"
   ]
  },
  {
   "cell_type": "markdown",
   "metadata": {},
   "source": [
    "Let's now extract all groups of candidates laying along great circles - tracklets -- having at least 5 points using Sergey's extraction method. The criterion will be the distance from great circle less than 1 arcsecond. As a candidate circles, we will use all possible circles passing through pairs of points."
   ]
  },
  {
   "cell_type": "code",
   "execution_count": 31,
   "metadata": {},
   "outputs": [
    {
     "data": {
      "application/vnd.jupyter.widget-view+json": {
       "model_id": "ef03f2cd5923419dbf09a5dad07eb531",
       "version_major": 2,
       "version_minor": 0
      },
      "text/plain": [
       "  0%|          | 0/39 [00:00<?, ?it/s]"
      ]
     },
     "metadata": {},
     "output_type": "display_data"
    },
    {
     "name": "stdout",
     "output_type": "stream",
     "text": [
      "1034\n",
      "1035\n",
      "1036\n",
      "1037\n",
      "1038\n",
      "1039\n",
      "1040\n",
      "1041\n",
      "1042\n",
      "1043\n",
      "1044\n",
      "1045\n",
      "1046\n",
      "1047\n",
      "1048\n",
      "1049\n",
      "1050\n",
      "1051\n",
      "1052\n",
      "1057\n",
      "1058\n",
      "1059\n",
      "1060\n",
      "1065\n",
      "1066\n",
      "1069\n",
      "1073\n",
      "1074\n",
      "1075\n",
      "1076\n",
      "1077\n",
      "1079\n",
      "1080\n",
      "1081\n",
      "1082\n",
      "1083\n",
      "1084\n",
      "1092\n",
      "1093\n"
     ]
    }
   ],
   "source": [
    "N = 0\n",
    "\n",
    "# Boolean\n",
    "table1['tracklet'] = False\n",
    "\n",
    "# String - container for tracklet designation\n",
    "tracklet_numbers = np.zeros_like(table1['tracklet'], dtype='U20')\n",
    "\n",
    "tracklets = []\n",
    "nids = []\n",
    "\n",
    "key = 'nid' # Analyse night at once\n",
    "# key = 'jd' # Analyse single frames\n",
    "\n",
    "for nid in tqdm(sorted(np.unique(table1[key]))[:]):\n",
    "    idx = table1[key] == nid\n",
    "    print(nid)\n",
    "    \n",
    "    # nid=1294 seems buggy (2020-07-18)\n",
    "    if nid in [1294, 1045, 1046]:\n",
    "        continue\n",
    "\n",
    "    sub = table1[idx] # Subset of objects from this exposure\n",
    "    coords = SkyCoord(sub['ra'], sub['dec'], unit='deg') # Coordinates of the objects\n",
    "    xyz = coords.cartesian\n",
    "    xyz = xyz.xyz.value.T # unit vectors corresponding to the points, Nx3\n",
    "    \n",
    "    if len(sub) < 5:\n",
    "        continue\n",
    "\n",
    "    # Levi-Civitta symbol\n",
    "    eijk = np.zeros((3, 3, 3))\n",
    "    eijk[0, 1, 2] = eijk[1, 2, 0] = eijk[2, 0, 1] = 1\n",
    "    eijk[0, 2, 1] = eijk[2, 1, 0] = eijk[1, 0, 2] = -1\n",
    "\n",
    "    circles = np.einsum('ijk,uj,vk->uvi', eijk, xyz, xyz, optimize=True) # cross-products, NxNx3\n",
    "    norms = np.sqrt(np.einsum('uvi,uvi->uv', circles, circles, optimize=True)) # norms, i.e. arc sine lengths, NxN\n",
    "    norms = np.tril(norms) # Remove redundant entries corresponding to the symmetry on point swapping\n",
    "\n",
    "    norm_idx = norms > 10/206265 # Pairs with angular separation larger than 10 arcsec, NxN\n",
    "    \n",
    "    circles[norms==0,:] = 0\n",
    "    circles[norms>0,:] /= norms[norms>0,np.newaxis] # normals to great circles, NxNx3\n",
    "\n",
    "    cidxs = [] # Sets of points along great circles \n",
    "    \n",
    "    for i,point in enumerate(xyz):\n",
    "        sindists = np.einsum('vi,ki->vk', circles[i], xyz, optimize=True) # sine distance from the great circle\n",
    "        sin_idx = np.abs(sindists) < 1/206265 # Good distances from great circles, NxN\n",
    "\n",
    "        nps = np.einsum('uv->u', (norm_idx[i,:,np.newaxis] & sin_idx).astype(np.int8), optimize=True) # Numbers of points along each great circle, N\n",
    "        np_idx = nps >= 5\n",
    "\n",
    "        cidxs += list(sin_idx[np_idx])\n",
    "        \n",
    "    uniq = np.unique(cidxs, axis=0)\n",
    "    aidx = np.argsort([-np.sum(_) for _ in uniq])\n",
    "\n",
    "    used = np.zeros(len(sub), dtype=bool)\n",
    "    \n",
    "    index_tracklet = 0\n",
    "    for cidx in uniq[aidx]:\n",
    "        # First we need to reject the tracklets mostly superceded by longer ones\n",
    "        if np.sum(cidx[~used]) < 5: \n",
    "            # TODO: should we try to greedily merge the extra points into already known tracks?\n",
    "            continue \n",
    "\n",
    "        tracklet_positions = np.where(idx)[0][cidx]\n",
    "        \n",
    "        used[cidx] = True\n",
    "        nids.append(nid)\n",
    "\n",
    "        N += 1\n",
    "\n",
    "        table1['tracklet'][tracklet_positions] = True\n",
    "\n",
    "        tracklet_numbers[tracklet_positions] = 'TRCK{}_{:02d}'.format(nid, index_tracklet)\n",
    "        index_tracklet += 1\n",
    "\n",
    "        tracklets.append(tracklet_positions)\n",
    "        \n",
    "# Designation\n",
    "table1['tracklet_number'] = tracklet_numbers\n",
    "\n",
    "# Index for candidates belonging to tracklets\n",
    "cidx = table1['tracklet'] "
   ]
  },
  {
   "cell_type": "markdown",
   "metadata": {},
   "source": [
    "## Number of tracklets"
   ]
  },
  {
   "cell_type": "code",
   "execution_count": 32,
   "metadata": {},
   "outputs": [
    {
     "name": "stdout",
     "output_type": "stream",
     "text": [
      "Number of unique tracklets found: 141 (check N=141)\n",
      "Number of unique nights with tracklets: 31\n"
     ]
    }
   ],
   "source": [
    "n_tracklets = len(np.unique(table1[cidx]['tracklet_number']))\n",
    "n_nights = len(np.unique(nids))\n",
    "\n",
    "print('Number of unique tracklets found: {} (check N={})'.format(n_tracklets, N))\n",
    "print('Number of unique nights with tracklets: {}'.format(n_nights))"
   ]
  },
  {
   "cell_type": "markdown",
   "metadata": {},
   "source": [
    "## Tracklet sizes"
   ]
  },
  {
   "cell_type": "code",
   "execution_count": 33,
   "metadata": {},
   "outputs": [
    {
     "data": {
      "image/png": "[encoded data removed]",
      "text/plain": [
       "<Figure size 1080x504 with 1 Axes>"
      ]
     },
     "metadata": {
      "needs_background": "light"
     },
     "output_type": "display_data"
    }
   ],
   "source": [
    "fig = plt.figure(figsize=(15, 7))\n",
    "\n",
    "tracklet_sizes = np.array([len(_) for _ in table1[cidx].group_by('tracklet_number').groups])\n",
    "\n",
    "plt.hist(tracklet_sizes, bins=100)\n",
    "plt.axvline(5, ls='--', color='C1')\n",
    "plt.yscale('log')\n",
    "plt.xlabel('Number of candidates per tracklet');\n",
    "# print(np.min(tracklet_sizes), np.median(tracklet_sizes), np.max(tracklet_sizes))"
   ]
  },
  {
   "cell_type": "code",
   "execution_count": 34,
   "metadata": {},
   "outputs": [
    {
     "data": {
      "text/plain": [
       "array([], dtype='<U11')"
      ]
     },
     "execution_count": 34,
     "metadata": {},
     "output_type": "execute_result"
    }
   ],
   "source": [
    "# check to see if all tracklets have size >= 5\n",
    "tracklet_names = np.array([_['tracklet_number'][0] for _ in table1[cidx].group_by('tracklet_number').groups])\n",
    "tracklet_names[tracklet_sizes < 5]"
   ]
  },
  {
   "cell_type": "markdown",
   "metadata": {},
   "source": [
    "## Store tracklet data on disk"
   ]
  },
  {
   "cell_type": "code",
   "execution_count": 35,
   "metadata": {},
   "outputs": [],
   "source": [
    "data = table1[cidx]\n",
    "data.to_pandas().to_parquet(os.path.join(basepath, 'tracklets.parquet'))"
   ]
  },
  {
   "cell_type": "code",
   "execution_count": 9,
   "metadata": {},
   "outputs": [],
   "source": [
    "# check all went good\n",
    "# import pandas as pd\n",
    "# pd.read_parquet(os.path.join(basepath, 'tracklets.parquet'))"
   ]
  }
 ],
 "metadata": {
  "kernelspec": {
   "display_name": "Python 3",
   "language": "python",
   "name": "python3"
  },
  "language_info": {
   "codemirror_mode": {
    "name": "ipython",
    "version": 3
   },
   "file_extension": ".py",
   "mimetype": "text/x-python",
   "name": "python",
   "nbconvert_exporter": "python",
   "pygments_lexer": "ipython3",
   "version": "3.7.1"
  }
 },
 "nbformat": 4,
 "nbformat_minor": 2
}
