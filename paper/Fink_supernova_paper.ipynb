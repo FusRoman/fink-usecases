{
 "cells": [
  {
   "cell_type": "markdown",
   "metadata": {},
   "source": [
    "# Paper results: Fink selection of ZTF public stream supernova candidates\n",
    "\n",
    "Supernovae are stellar explosions of interest for astrophysical and cosmology studies. They are visible during week time-scales in multiple wavelengths and potentially through other messengers such as neutrinos, gravitational waves and gamma rays. LSST is expected to discover $10^6$ supernovae during its 10 year survey ([LSST Science Collaboration et al. 2009](https://arxiv.org/pdf/0912.0201.pdf)), orders of magnitude greater than currently available data sets.\n",
    "\n",
    "Given such data volume, the first challenge will be to disentangle different types of supernovae using the alert streams. Fink delivers classification, after only a few observations, in order to select promising candidates for further analysis and follow-up coordination using [SuperNNova](https://github.com/supernnova/SuperNNova) [(Möller & de Boissière 2019)](https://academic.oup.com/mnras/article-abstract/491/3/4277/5651173). This early identification is crucial to allow optimal distribution of follow-up efforts for further SNe studies as well as to improve training sets for photometric classifiers [(Ishida et al. 2019b)](https://ui.adsabs.harvard.edu/abs/2019MNRAS.483....2I/abstract).\n",
    "\n",
    "This notebook reproduces the results of the Fink paper using the supernova science module. SuperNNova is a library to classify supernovae. "
   ]
  },
  {
   "cell_type": "markdown",
   "metadata": {},
   "source": [
    "### Requirements:\n",
    "To run this notebook, you need to install **Apache Spark** and import the following packages:"
   ]
  },
  {
   "cell_type": "code",
   "execution_count": 1,
   "metadata": {},
   "outputs": [],
   "source": [
    "import os\n",
    "import numpy as np\n",
    "import pandas as pd\n",
    "import seaborn as sns\n",
    "sns.set_context('talk')\n",
    "from astropy.time import Time\n",
    "from astropy import units as u\n",
    "import matplotlib.pyplot as plt\n",
    "import matplotlib.gridspec as gridspec\n",
    "from astropy.coordinates import SkyCoord\n",
    "\n",
    "# pyspark\n",
    "import pyspark.sql.functions as F\n",
    "from pyspark.sql.types import DoubleType, IntegerType\n",
    "from pyspark.sql.functions import pandas_udf, PandasUDFType\n",
    "\n",
    "# fink\n",
    "from fink_science.utilities import load_scikit_model, concat_col\n",
    "\n",
    "# warnings\n",
    "import warnings\n",
    "warnings.filterwarnings('ignore')"
   ]
  },
  {
   "cell_type": "markdown",
   "metadata": {},
   "source": [
    "You will need to create an **Spark session** to load the alerts (comment the next line if you are in a Spark cluster)"
   ]
  },
  {
   "cell_type": "code",
   "execution_count": 2,
   "metadata": {},
   "outputs": [],
   "source": [
    "from pyspark.sql import SparkSession\n",
    "spark = SparkSession \\\n",
    "    .builder \\\n",
    "    .appName(\"Python Spark SQL basic example\") \\\n",
    "    .config(\"spark.some.config.option\", \"some-value\") \\\n",
    "    .getOrCreate()"
   ]
  },
  {
   "cell_type": "code",
   "execution_count": 3,
   "metadata": {},
   "outputs": [],
   "source": [
    "# useful function in the following\n",
    "def get_percentage_df(num, den):\n",
    "    \"\"\"Print percentages for stats\n",
    "    \"\"\"\n",
    "    return round(100 * len(num) / len(den), 2)\n",
    "def get_percentage_spark(num, den):\n",
    "    \"\"\"Print percentages for stats\n",
    "    \"\"\"\n",
    "    return round(100 * num.count() / den.count(), 2)"
   ]
  },
  {
   "cell_type": "markdown",
   "metadata": {},
   "source": [
    "## Loading Fink data with Apache Spark\n",
    "\n",
    "In order to accommodate the paradigm change introduced by the multi-TB alert data set of LSST, Fink is designed to take advantage of new technological approaches based on big data tools. We primarily use [Apache Spark](https://spark.apache.org/) to efficiently manipulate the data. \n",
    "\n",
    "Let's load processed data from November 2019 by Fink, stored on the [Zenodo DOI:10.5281](https://doi.org/10.5281/zenodo.4036589). This data has passed the quality cuts defined in the paper:\n",
    "\n",
    "- RealBogus scores assigned by the ZTF alert distribution pipeline. The values must be above 0.55.\n",
    "- Number of prior-tagged bad pixels in a 5 x 5 pixel stamp. The value must be 0.\n",
    "- The difference between the aperture magnitude and the PSF-fit magnitude. The absolute value must be lower than 0.1."
   ]
  },
  {
   "cell_type": "code",
   "execution_count": 4,
   "metadata": {},
   "outputs": [],
   "source": [
    "# processed data for November and December 2019\n",
    "df1 = spark.read.format('parquet').load('./year=2019/month=11')\n",
    "df2 = spark.read.format('parquet').load('./year=2019/month=12')\n",
    "df = df1.union(df2)"
   ]
  },
  {
   "cell_type": "code",
   "execution_count": 5,
   "metadata": {},
   "outputs": [
    {
     "name": "stdout",
     "output_type": "stream",
     "text": [
      "Number of alerts that pass quality cuts 2417284\n"
     ]
    }
   ],
   "source": [
    "# Number of alerts that survived quality cuts\n",
    "print('Number of alerts that pass quality cuts {}'.format(df.count()))"
   ]
  },
  {
   "cell_type": "markdown",
   "metadata": {},
   "source": [
    "convert to Pandas to identify SNe "
   ]
  },
  {
   "cell_type": "code",
   "execution_count": 6,
   "metadata": {},
   "outputs": [],
   "source": [
    "pdf={}\n",
    "cols = ['objectId','candid','cdsxmatch','candidate.ra','candidate.dec','snn_snia_vs_nonia','snn_sn_vs_all','nalerthist']\n",
    "pdf['all'] = df.select(cols).toPandas()"
   ]
  },
  {
   "cell_type": "markdown",
   "metadata": {},
   "source": [
    "## Selecting relevant alerts for Supernovae"
   ]
  },
  {
   "cell_type": "markdown",
   "metadata": {},
   "source": [
    "More than 2 million alerts in November and December 2019 pass the quality cuts and enter the SuperNNova module. This is too many for in-depth analysis. We need to further select relevant candidates and reduce the stream. You can do it by simply defining criteria on alert properties:"
   ]
  },
  {
   "cell_type": "markdown",
   "metadata": {},
   "source": [
    "### 1. Baseline selection cuts for SNe  (no classification score yet)\n",
    "As in the paper:\n",
    "- Cross-match with SIMBAD: the alert must be associated with a galaxy, a candidate transient or tagged as unknown.\n",
    "- Deep Learning Real Bogus score $drb>0.5$.\n",
    "- At least $3$ detections in the alert package are required to promote reliable classification scores ($nalerthist$ added value from Fink).\n",
    "- To filter long-term variable objects we require less than 400 detections in the ZTF survey ($ndethist$).\n",
    "- To filter variable stars not present in our catalogues, we require a Star/Galaxy score by SExtractor $>0.4$.\n",
    "\n",
    "About the SIMBAD cross-match: Supernovae are hosted in galaxies so an usual match for the alert is its host-galaxy. We include objects catalogued as transients and SN candidates as well."
   ]
  },
  {
   "cell_type": "code",
   "execution_count": 7,
   "metadata": {},
   "outputs": [],
   "source": [
    "list_SIMBAD_galaxies = [\n",
    "    \"galaxy\",\n",
    "    \"Galaxy\",\n",
    "    \"EmG\",\n",
    "    \"Seyfert\",\n",
    "    \"Seyfert_1\",\n",
    "    \"Seyfert_2\",\n",
    "    \"BlueCompG\",\n",
    "    \"StarburstG\",\n",
    "    \"LSB_G\",\n",
    "    \"HII_G\",\n",
    "    \"High_z_G\",\n",
    "    \"GinPair\",\n",
    "    \"GinGroup\",\n",
    "    \"BClG\",\n",
    "    \"GinCl\",\n",
    "    \"PartofG\",\n",
    "]\n",
    "keep_cds = [\"Unknown\", \"Candidate_SN*\", \"SN\", \"Transient\"] + list_SIMBAD_galaxies"
   ]
  },
  {
   "cell_type": "code",
   "execution_count": 8,
   "metadata": {},
   "outputs": [
    {
     "name": "stdout",
     "output_type": "stream",
     "text": [
      "selection cuts only (no classication algorithm yet) 576190 alerts\n",
      "reduction of data stream to 23.84 % \n",
      "\n"
     ]
    }
   ],
   "source": [
    "df_selected={}\n",
    "# all cuts except classification\n",
    "df_selected['selectecion_cuts_only'] = df.filter(df['cdsxmatch'].isin(keep_cds))\\\n",
    "    .filter(df['candidate.ndethist'] < 400)\\\n",
    "    .filter(df['candidate.drb'] > 0.5)\\\n",
    "    .filter(df[\"candidate.classtar\"] > 0.4)\\\n",
    "    .filter(df[\"nalerthist\"] > 3)\n",
    "\n",
    "# Number of alerts after cuts\n",
    "print(f\"selection cuts only (no classication algorithm yet) {df_selected['selectecion_cuts_only'].count()} alerts\")\n",
    "print(f\"reduction of data stream to {get_percentage_spark(df_selected['selectecion_cuts_only'],df)} % \")\n",
    "print()"
   ]
  },
  {
   "cell_type": "markdown",
   "metadata": {},
   "source": [
    "### 2. Adding classification algorithm selection\n",
    "- The alert must obtain a classification score $>0.5$ (either from SN1 or SN2).\n",
    "\n",
    "In this notebook SN1 = snn_snia_vs_nonia  and SN2 = snn_sn_vs_all"
   ]
  },
  {
   "cell_type": "code",
   "execution_count": 9,
   "metadata": {},
   "outputs": [],
   "source": [
    "print_dic = {'snn_snia_vs_nonia':'SN1', 'snn_sn_vs_all':'SN2'}"
   ]
  },
  {
   "cell_type": "markdown",
   "metadata": {},
   "source": [
    "#### Score >0.5"
   ]
  },
  {
   "cell_type": "code",
   "execution_count": 10,
   "metadata": {},
   "outputs": [
    {
     "name": "stdout",
     "output_type": "stream",
     "text": [
      "SN1 > 0.5 365228 alerts\n",
      "reduction of data stream to 15.11\n",
      "\n",
      "SN2 > 0.5 208978 alerts\n",
      "reduction of data stream to 8.65\n",
      "\n"
     ]
    }
   ],
   "source": [
    "for class_score in print_dic.keys():\n",
    "    thres = 0.5\n",
    "    df_selected[f\"{class_score}_gt5\"] = df.filter(df[class_score] > thres)\\\n",
    "        .filter(df['cdsxmatch'].isin(keep_cds))\\\n",
    "        .filter(df['candidate.ndethist'] < 400)\\\n",
    "        .filter(df['candidate.drb'] > 0.5)\\\n",
    "        .filter(df[\"candidate.classtar\"] > 0.4)\\\n",
    "        .filter(df[\"nalerthist\"] > 3)\n",
    "\n",
    "    # Number of alerts after cuts\n",
    "    print(f\"{print_dic[class_score]} > {thres} {df_selected[f'{class_score}_gt5'].count()} alerts\")\n",
    "    print(f\"reduction of data stream to {get_percentage_spark(df_selected[f'{class_score}_gt5'], df)}\")\n",
    "    print()"
   ]
  },
  {
   "cell_type": "markdown",
   "metadata": {},
   "source": [
    "#### Score >0.6"
   ]
  },
  {
   "cell_type": "code",
   "execution_count": 11,
   "metadata": {},
   "outputs": [
    {
     "name": "stdout",
     "output_type": "stream",
     "text": [
      "SN1 > 0.6 308822 alerts\n",
      "reduction of data stream to 12.78\n",
      "\n",
      "SN2 > 0.6 145736 alerts\n",
      "reduction of data stream to 6.03\n",
      "\n"
     ]
    }
   ],
   "source": [
    "# now with classification scores\n",
    "for class_score in print_dic.keys():\n",
    "    thres = 0.6\n",
    "    df_selected[f\"{class_score}_gt6\"] = df.filter(df[class_score] > thres)\\\n",
    "        .filter(df['cdsxmatch'].isin(keep_cds))\\\n",
    "        .filter(df['candidate.ndethist'] < 400)\\\n",
    "        .filter(df['candidate.drb'] > 0.5)\\\n",
    "        .filter(df[\"candidate.classtar\"] > 0.4)\\\n",
    "        .filter(df[\"nalerthist\"] > 3)\n",
    "\n",
    "    # Number of alerts after cuts\n",
    "    print(f\"{print_dic[class_score]} > {thres} {df_selected[f'{class_score}_gt6'].count()} alerts\")\n",
    "    print(f\"reduction of data stream to {get_percentage_spark(df_selected[f'{class_score}_gt6'], df)}\")\n",
    "    print()"
   ]
  },
  {
   "cell_type": "markdown",
   "metadata": {},
   "source": [
    "###  Unique objects\n",
    "The main dataset of Fink is made of individual alerts. But many alerts can come from the same object on the sky (e.g. variable stars or SN typically emit several alerts over weeks). You can simply count the number of unique object by grouping by `objectId`"
   ]
  },
  {
   "cell_type": "code",
   "execution_count": 12,
   "metadata": {},
   "outputs": [
    {
     "name": "stdout",
     "output_type": "stream",
     "text": [
      "selectecion_cuts_only 184722\n",
      "snn_snia_vs_nonia_gt5 133672\n",
      "snn_sn_vs_all_gt5 89405\n",
      "snn_snia_vs_nonia_gt6 114799\n",
      "snn_sn_vs_all_gt6 68764\n"
     ]
    }
   ],
   "source": [
    "# unique objectId\n",
    "for class_score in df_selected.keys():\n",
    "    print(class_score, df_selected[class_score].groupBy('objectId').count().count())"
   ]
  },
  {
   "cell_type": "markdown",
   "metadata": {},
   "source": [
    "convert to Pandas to manipulate"
   ]
  },
  {
   "cell_type": "code",
   "execution_count": 13,
   "metadata": {},
   "outputs": [],
   "source": [
    "cols = ['objectId','candid','cdsxmatch','candidate.ra','candidate.dec','snn_snia_vs_nonia','snn_sn_vs_all','nalerthist']\n",
    "for class_score in df_selected.keys():\n",
    "    pdf[class_score] = df_selected[class_score].select(cols).toPandas()"
   ]
  },
  {
   "cell_type": "markdown",
   "metadata": {},
   "source": [
    "## Matching with TNS data\n",
    "\n",
    "The [Transient Name Server (TNS)](https://wis-tns.weizmann.ac.il) is the official IAU mechanism for reporting new astronomical transients and it contains many supernova (candidates and confirmed). Once spectroscopically confirmed, new supernova discoveries are officially designated a SN name. We retrieve confirmed SNe in 2019 from TNS, and match the coordinates to transients detected by ZTF."
   ]
  },
  {
   "cell_type": "code",
   "execution_count": 14,
   "metadata": {},
   "outputs": [
    {
     "name": "stdout",
     "output_type": "stream",
     "text": [
      "SNeIa 613\n",
      "SNe 702\n"
     ]
    }
   ],
   "source": [
    "# Load all TNS files available\n",
    "dic_tag_idxs = {}\n",
    "# load tags known, e.g.g TNS\n",
    "pdf_TNS_SNe = pd.read_csv(\"./TNS_SNe_Oct_Dec_paper.csv\")\n",
    "pdf_TNS_SNe = pdf_TNS_SNe.drop_duplicates()\n",
    "\n",
    "pdf_TNS_SNeIa = pdf_TNS_SNe[pdf_TNS_SNe[\"Obj. Type\"] == \"SN Ia\"]\n",
    "print(\"SNeIa\",len(pdf_TNS_SNeIa))\n",
    "print(\"SNe\",len(pdf_TNS_SNe))"
   ]
  },
  {
   "cell_type": "markdown",
   "metadata": {},
   "source": [
    "We identify those SNe discovered from November on 2019."
   ]
  },
  {
   "cell_type": "code",
   "execution_count": 15,
   "metadata": {},
   "outputs": [],
   "source": [
    "idx_discovered_gt_November = pdf_TNS_SNe[pdf_TNS_SNe['Discovery Date (UT)']>= '2019-11-01'].objectId.unique().tolist()"
   ]
  },
  {
   "cell_type": "markdown",
   "metadata": {},
   "source": [
    "# ZTF alerts and TNS stats \n",
    "## 1. Cross-match by coordinates\n",
    "\n",
    "Beware! We use astropy match_to_catalogue_sky which provides the closest neighbour to a coordinate. There may be multiple alerts with the same coordinate as this is not real time processing, so we need to deal with this."
   ]
  },
  {
   "cell_type": "code",
   "execution_count": 16,
   "metadata": {},
   "outputs": [],
   "source": [
    "# ZTF\n",
    "obj1, ra1, dec1 = pdf['all'].objectId.to_numpy(), pdf['all'].ra.to_numpy(), pdf['all'].dec.to_numpy()\n",
    "# TNS\n",
    "obj2, ra2, dec2 = pdf_TNS_SNe.objectId.to_numpy(), pdf_TNS_SNe.RA.to_numpy(), pdf_TNS_SNe.DEC.to_numpy()"
   ]
  },
  {
   "cell_type": "code",
   "execution_count": 17,
   "metadata": {},
   "outputs": [],
   "source": [
    "# create catalogs\n",
    "catalog_ztf = SkyCoord(ra=np.array(ra1, dtype=np.float)*u.degree, dec=np.array(dec1, dtype=np.float)*u.degree)\n",
    "catalog_tns = SkyCoord(ra=np.array(ra2, dtype=str), dec=np.array(dec2, dtype=str), unit=(u.hour, u.deg), frame='icrs')"
   ]
  },
  {
   "cell_type": "code",
   "execution_count": 18,
   "metadata": {},
   "outputs": [],
   "source": [
    "# cross-match\n",
    "idx, d2d, d3d = catalog_ztf.match_to_catalog_sky(catalog_tns)"
   ]
  },
  {
   "cell_type": "code",
   "execution_count": 19,
   "metadata": {},
   "outputs": [],
   "source": [
    "# save it in a data frame\n",
    "associations = pd.DataFrame()\n",
    "associations['objectId'] = pdf['all'].objectId\n",
    "associations['assoc_SNe'] = pdf_TNS_SNe.iloc[idx]['objectId'].values\n",
    "associations['assoc_SNe_d'] = d2d\n",
    "associations['assoc_SNe_type'] = pdf_TNS_SNe.iloc[idx]['Obj. Type'].values\n",
    "# set separation length\n",
    "associations = associations[associations['assoc_SNe_d']<(1.5*u.arcsec).to(u.deg)]\n",
    "associations = associations.drop_duplicates()"
   ]
  },
  {
   "cell_type": "code",
   "execution_count": 20,
   "metadata": {},
   "outputs": [
    {
     "name": "stdout",
     "output_type": "stream",
     "text": [
      "Number of SNe in the alert stream passing quality cuts 366\n",
      "Number of SNeIa in the alert stream passing quality cuts 296\n"
     ]
    }
   ],
   "source": [
    "# Some stats on these matches\n",
    "print(f\"Number of SNe in the alert stream passing quality cuts {len(associations.objectId.unique())}\")\n",
    "print(f\"Number of SNeIa in the alert stream passing quality cuts {len(associations[associations['assoc_SNe_type']=='SN Ia'].objectId.unique())}\")"
   ]
  },
  {
   "cell_type": "code",
   "execution_count": 21,
   "metadata": {},
   "outputs": [
    {
     "name": "stdout",
     "output_type": "stream",
     "text": [
      "all SNeIa: 296 SNe: 366\n",
      "selectecion_cuts_only SNeIa: 258 SNe: 319\n",
      "snn_snia_vs_nonia_gt5 SNeIa: 242 SNe: 296\n",
      "snn_sn_vs_all_gt5 SNeIa: 223 SNe: 275\n",
      "snn_snia_vs_nonia_gt6 SNeIa: 229 SNe: 278\n",
      "snn_sn_vs_all_gt6 SNeIa: 196 SNe: 245\n"
     ]
    }
   ],
   "source": [
    "# Some stats on these matches\n",
    "for k in pdf.keys():\n",
    "    if 'assoc_SNe_type' not in pdf[k].keys():\n",
    "        pdf[k] = pd.merge(pdf[k],associations, on = 'objectId',how='left')\n",
    "        print(f\"{k} SNeIa: {len(pdf[k][pdf[k]['assoc_SNe_type']=='SN Ia'].objectId.unique())} SNe: {len(pdf[k][~pdf[k]['assoc_SNe'].isna()].objectId.unique())}\")"
   ]
  },
  {
   "cell_type": "markdown",
   "metadata": {},
   "source": [
    "# Time delay between classification and SN Ia peak\n",
    "An important metric is the time of 1st classification by Fink, compared to the SN Ia peak. Ideally, we want to catch the supernova before the flux peak to allow efficient follow-up. Let's compute the time delay in the case of Fink, using the current SNN module:"
   ]
  },
  {
   "cell_type": "code",
   "execution_count": 22,
   "metadata": {},
   "outputs": [],
   "source": [
    "@pandas_udf(\"double\", PandasUDFType.GROUPED_AGG)\n",
    "def peakdelay(mag, jd, cmag, cjd):\n",
    "    \"\"\" Very rough estimate of the delay between first\n",
    "    classification date by Fink and the SN Ia peak.\n",
    "    \n",
    "    The search is done on the measurements (no fit).\n",
    "    \"\"\"\n",
    "    index = np.where(mag == np.min(mag))[0][0]\n",
    "    jd0 = np.min(jd)\n",
    "    \n",
    "    # peak is prior the detection - look at the history\n",
    "    if np.min(jd) - jd.values[index] == 0:\n",
    "        # Search for the history of the 1st alert\n",
    "        min_jds = np.array([np.min(jd_) for jd_ in cjd])\n",
    "        index = np.where(min_jds == np.min(min_jds))[0][0]\n",
    "        \n",
    "        # inplace replacement\n",
    "        mag = np.array(cmag[index])\n",
    "        jd = np.array(cjd[index])\n",
    "        \n",
    "        # remove upper limits\n",
    "        mask = mag == mag\n",
    "        \n",
    "        # True SN peak!\n",
    "        if len(mag[mask]) <= 1:\n",
    "            return 0\n",
    "        \n",
    "        # search for the min mag\n",
    "        index = np.where(mag[mask] == np.min(mag[mask]))[0][0]\n",
    "        \n",
    "        # Not enough points in the rising part\n",
    "        if index < 3:\n",
    "            return None\n",
    "        \n",
    "        # Not reached the peak yet\n",
    "        if index > len(mag[mask]) - 2:\n",
    "            return None\n",
    "\n",
    "        return jd0 - jd[mask][index]\n",
    "    else:\n",
    "        return jd0 - jd.values[index]\n",
    "\n"
   ]
  },
  {
   "cell_type": "code",
   "execution_count": 23,
   "metadata": {},
   "outputs": [
    {
     "name": "stdout",
     "output_type": "stream",
     "text": [
      "+------------+--------------------+\n",
      "|    objectId|           peakdelay|\n",
      "+------------+--------------------+\n",
      "|ZTF19acruqph| -11.959097200073302|\n",
      "|ZTF19aculypc|-0.03579859994351864|\n",
      "|ZTF19acykjcw|-0.01135420007631...|\n",
      "|ZTF19acmdpyr| -13.000069399829954|\n",
      "|ZTF19acxyucu|  13.002476800233126|\n",
      "|ZTF19acygjmg|                null|\n",
      "|ZTF19acxowwt|  12.948738400358707|\n",
      "|ZTF19acyogvo|  -9.911134299822152|\n",
      "|ZTF19acspfcb|                null|\n",
      "|ZTF19acokzjy|  -6.002198999747634|\n",
      "+------------+--------------------+\n",
      "only showing top 10 rows\n",
      "\n"
     ]
    }
   ],
   "source": [
    "# Look at the. delay only if it was discovered from Nobvember on\n",
    "# to avoid light-curves that were discovered e.g. in October that we only see their tail\n",
    "df_snia = df_selected[\"snn_snia_vs_nonia_gt5\"].filter(df_selected[\"snn_snia_vs_nonia_gt5\"]['objectId'].isin(idx_discovered_gt_November))\n",
    "df_snia = concat_col(df_snia, 'magpsf', prefix='c')\n",
    "df_snia = concat_col(df_snia, 'jd', prefix='c')\n",
    "\n",
    "catalog_matches = pdf[\"snn_snia_vs_nonia_gt5\"][pdf[\"snn_snia_vs_nonia_gt5\"]['assoc_SNe_type']=='SN Ia'].objectId.unique()\n",
    "\n",
    "df_peak = df_snia.filter(df_snia['objectId'].isin(catalog_matches.tolist()))\\\n",
    "    .groupBy('objectId')\\\n",
    "    .agg(peakdelay(df_snia['candidate.magpsf'], df_snia['candidate.jd'], df_snia['cmagpsf'], df_snia['cjd']).alias('peakdelay'))\n",
    "\n",
    "df_peak.show(10)\n",
    "\n",
    "pdf_peak = df_peak.toPandas()"
   ]
  },
  {
   "cell_type": "code",
   "execution_count": 24,
   "metadata": {},
   "outputs": [
    {
     "data": {
      "image/png": "[encoded data removed]",
      "text/plain": [
       "<Figure size 720x432 with 1 Axes>"
      ]
     },
     "metadata": {},
     "output_type": "display_data"
    }
   ],
   "source": [
    "font = {\n",
    "        'weight': 'normal',\n",
    "        'size': 20,\n",
    "        }\n",
    "fig = plt.figure(figsize=(10, 6))\n",
    "sns.distplot(pdf_peak[~pdf_peak.peakdelay.isna()].peakdelay, bins=15, kde=False)\n",
    "plt.xlabel('Classification delay with respect to peak measured brightness [day]',fontdict=font)\n",
    "plt.ylabel('Count',fontdict=font)\n",
    "plt.grid()\n",
    "\n",
    "mask = pdf_peak.peakdelay == pdf_peak.peakdelay\n",
    "plt.axvline(np.median(pdf_peak.peakdelay[mask]), ls='--', color='C1', lw=5)\n",
    "plt.show()\n",
    "\n",
    "# plt.savefig('snia_delay_pastnov_haspeak.png')"
   ]
  },
  {
   "cell_type": "code",
   "execution_count": 25,
   "metadata": {},
   "outputs": [
    {
     "name": "stdout",
     "output_type": "stream",
     "text": [
      "Median delay -5.96\n"
     ]
    }
   ],
   "source": [
    "print(f\"Median delay {round(np.median(pdf_peak.peakdelay[mask]),2)}\")"
   ]
  },
  {
   "cell_type": "code",
   "execution_count": null,
   "metadata": {},
   "outputs": [],
   "source": []
  }
 ],
 "metadata": {
  "hide_input": false,
  "kernelspec": {
   "display_name": "Python 3",
   "language": "python",
   "name": "python3"
  },
  "language_info": {
   "codemirror_mode": {
    "name": "ipython",
    "version": 3
   },
   "file_extension": ".py",
   "mimetype": "text/x-python",
   "name": "python",
   "nbconvert_exporter": "python",
   "pygments_lexer": "ipython3",
   "version": "3.6.8"
  }
 },
 "nbformat": 4,
 "nbformat_minor": 2
}
