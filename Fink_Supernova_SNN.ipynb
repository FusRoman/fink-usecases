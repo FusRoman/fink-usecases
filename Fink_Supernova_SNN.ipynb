{
 "cells": [
  {
   "cell_type": "markdown",
   "metadata": {},
   "source": [
    "# Exploring ZTF supernovae with Fink and SNN"
   ]
  },
  {
   "cell_type": "code",
   "execution_count": 6,
   "metadata": {},
   "outputs": [],
   "source": [
    "df = spark.read.format('parquet').load('ztf_alerts/science_reprocessed/year=2019/month=11')"
   ]
  },
  {
   "cell_type": "code",
   "execution_count": 7,
   "metadata": {},
   "outputs": [
    {
     "data": {
      "text/plain": [
       "1515953"
      ]
     },
     "execution_count": 7,
     "metadata": {},
     "output_type": "execute_result"
    }
   ],
   "source": [
    "# Number of alerts that survived quality cuts\n",
    "df.count()"
   ]
  },
  {
   "cell_type": "code",
   "execution_count": 8,
   "metadata": {},
   "outputs": [],
   "source": [
    "df_snia = df.filter(df['snnscore'] > 0.75)\\\n",
    "    .filter(df['cdsxmatch'].isin(['Unknown', 'Galaxy', 'Seyfert']))\\\n",
    "    .filter(df['candidate.ndethist'] < 150)\\\n",
    "    .filter(df['candidate.drb'] > 0.5)"
   ]
  },
  {
   "cell_type": "code",
   "execution_count": 9,
   "metadata": {},
   "outputs": [
    {
     "data": {
      "text/plain": [
       "33043"
      ]
     },
     "execution_count": 9,
     "metadata": {},
     "output_type": "execute_result"
    }
   ],
   "source": [
    "# Number of alerts\n",
    "df_snia.count()"
   ]
  },
  {
   "cell_type": "code",
   "execution_count": 10,
   "metadata": {},
   "outputs": [
    {
     "data": {
      "text/plain": [
       "19854"
      ]
     },
     "execution_count": 10,
     "metadata": {},
     "output_type": "execute_result"
    }
   ],
   "source": [
    "# unique objectId\n",
    "df_snia.groupBy('objectId').count().count()"
   ]
  },
  {
   "cell_type": "code",
   "execution_count": 11,
   "metadata": {},
   "outputs": [
    {
     "name": "stdout",
     "output_type": "stream",
     "text": [
      "+----------+---------+--------+-------------------+-------------------+----------------+\n",
      "|      Name|Obj. Type|Redshift|Disc. Internal Name|Discovery Date (UT)|Discovery Filter|\n",
      "+----------+---------+--------+-------------------+-------------------+----------------+\n",
      "|SN 2020buq|    SN Ia|  0.0864|       ZTF20aalyeut|2020-01-31 11:06:38|           g-ZTF|\n",
      "|SN 2020bua|    SN Ia|    0.07|       ZTF20aajbsxt|2020-01-26 08:57:07|           g-ZTF|\n",
      "|SN 2020bro|    SN Ia|    0.09|       ZTF20aaivego|2020-01-26 03:57:59|           g-ZTF|\n",
      "|SN 2020bqi|    SN Ia|    0.11|       ZTF20aaknzba|2020-01-30 12:05:07|           g-ZTF|\n",
      "|SN 2020bpi|    SN Ia|   0.041|       ZTF20aakyoez|2020-01-30 12:16:34|           g-ZTF|\n",
      "|SN 2020boo|    SN Ia|  0.0664|       ZTF20aajvcwd|2020-01-28 12:08:15|           g-ZTF|\n",
      "|SN 2020bol|    SN Ia|    0.08|       ZTF20aakfofq|2020-01-31 04:41:28|           g-ZTF|\n",
      "|SN 2020boc|    SN Ia| 0.04987|       ZTF18adcdcrd|2020-01-31 04:52:31|           g-ZTF|\n",
      "|SN 2020blz|    SN Ia|     0.1|       ZTF20aaivvwa|2020-01-24 04:30:43|           g-ZTF|\n",
      "|SN 2020bli|    SN Ia|     0.1|       ZTF20aahzyep|2020-01-26 09:04:07|           g-ZTF|\n",
      "|SN 2020bka|    SN Ia|   0.117|       ZTF20aahgmud|2020-01-23 10:37:28|           g-ZTF|\n",
      "|SN 2020bjh|    SN Ia| 0.04212|       ZTF20aakndsn|2020-01-30 08:33:44|           r-ZTF|\n",
      "|SN 2020bjg|    SN Ia|    0.09|       ZTF20aakbtyz|2020-01-30 08:17:32|           r-ZTF|\n",
      "|SN 2020bja|    SN Ia|    0.07|       ZTF20aairvsi|2020-01-27 05:15:12|           r-ZTF|\n",
      "|SN 2020biz|    SN Ia|    0.05|       ZTF18aadzfso|2020-01-28 04:27:21|           g-ZTF|\n",
      "|SN 2020bhs|    SN Ia|    0.06|       ZTF20aahtjat|2020-01-26 02:39:58|           r-ZTF|\n",
      "|SN 2020bev|    SN Ia|    0.06|       ZTF20aaifyvz|2020-01-25 12:53:04|           r-ZTF|\n",
      "|SN 2020bec|    SN Ia|  0.0732|       ZTF20aaifkyj|2020-01-25 12:09:55|           r-ZTF|\n",
      "|SN 2020bds|    SN Ia|  0.0663|       ZTF20aahirqq|2020-01-24 02:45:36|           r-ZTF|\n",
      "|SN 2020bdq|    SN Ia|    0.04|       ZTF20aahmvfw|2020-01-24 07:00:28|           r-ZTF|\n",
      "+----------+---------+--------+-------------------+-------------------+----------------+\n",
      "only showing top 20 rows\n",
      "\n"
     ]
    }
   ],
   "source": [
    "# Load TNS data\n",
    "df_tns = spark.read.format('csv').option('inferSchema', True).option('header', True).load('tns')\n",
    "\n",
    "cols = [\n",
    "    'Name', '`Obj. Type`', 'Redshift', \n",
    "    '`Disc. Internal Name`', 'Discovery Date (UT)', \n",
    "    'Discovery Filter'\n",
    "]\n",
    "df_tns.select(cols).show()"
   ]
  },
  {
   "cell_type": "code",
   "execution_count": 12,
   "metadata": {},
   "outputs": [],
   "source": [
    "df_all = df_snia.join(df_tns, df_snia['objectId'] == df_tns['`Disc. Internal Name`'])"
   ]
  },
  {
   "cell_type": "code",
   "execution_count": 13,
   "metadata": {},
   "outputs": [
    {
     "name": "stdout",
     "output_type": "stream",
     "text": [
      "+------------+------------------+---------+--------+-------------------+\n",
      "|    objectId|          snnscore|Obj. Type|Redshift|Discovery Date (UT)|\n",
      "+------------+------------------+---------+--------+-------------------+\n",
      "|ZTF19acqypso|0.9403911828994751|    SN Ia|    0.07|2019-11-08 06:11:31|\n",
      "|ZTF19acqypso|0.9393153190612793|    SN Ia|    0.07|2019-11-08 06:11:31|\n",
      "|ZTF19acqypso|0.9390793442726135|    SN Ia|    0.07|2019-11-08 06:11:31|\n",
      "|ZTF19acgqjln|0.9388836622238159|    SN Ia|    0.05|2019-10-23 03:28:37|\n",
      "|ZTF19acqypso|0.9353110194206238|    SN Ia|    0.07|2019-11-08 06:11:31|\n",
      "|ZTF19acqypso| 0.934328556060791|    SN Ia|    0.07|2019-11-08 06:11:31|\n",
      "|ZTF19acetxvq|0.9323999881744385|    SN Ia|   0.063|2019-10-15 03:02:48|\n",
      "|ZTF19acetxvq|0.9317749738693237|    SN Ia|   0.063|2019-10-15 03:02:48|\n",
      "|ZTF19achagst| 0.931272566318512|    SN Ia|   0.068|2019-10-22 11:45:50|\n",
      "|ZTF19acetxvq|0.9304450750350952|    SN Ia|   0.063|2019-10-15 03:02:48|\n",
      "|ZTF19acetxvq|0.9284504055976868|    SN Ia|   0.063|2019-10-15 03:02:48|\n",
      "|ZTF19acetxvq|0.9284433126449585|    SN Ia|   0.063|2019-10-15 03:02:48|\n",
      "|ZTF19acgqjln|0.9283698797225952|    SN Ia|    0.05|2019-10-23 03:28:37|\n",
      "|ZTF19acetxvq|0.9283161163330078|    SN Ia|   0.063|2019-10-15 03:02:48|\n",
      "|ZTF19acfsqjx|0.9266927242279053|    SN Ia|   0.055|2019-10-21 03:25:16|\n",
      "|ZTF19acgqjln|0.9265341758728027|    SN Ia|    0.05|2019-10-23 03:28:37|\n",
      "|ZTF19acgqjln|0.9265108704566956|    SN Ia|    0.05|2019-10-23 03:28:37|\n",
      "|ZTF19acbpzir|0.9261928200721741|    SN Ia|   0.066|2019-09-28 04:22:27|\n",
      "|ZTF19acgqjln|0.9252852201461792|    SN Ia|    0.05|2019-10-23 03:28:37|\n",
      "|ZTF19acetxvq|0.9245288372039795|    SN Ia|   0.063|2019-10-15 03:02:48|\n",
      "+------------+------------------+---------+--------+-------------------+\n",
      "only showing top 20 rows\n",
      "\n"
     ]
    }
   ],
   "source": [
    "cols = ['objectId', 'snnscore', '`Obj. Type`', 'Redshift', 'Discovery Date (UT)']\n",
    "df_all.select(cols).orderBy('snnscore', ascending=False).show()"
   ]
  },
  {
   "cell_type": "code",
   "execution_count": 14,
   "metadata": {},
   "outputs": [],
   "source": [
    "alerts = df_all.filter(df_all['objectId'] == 'ZTF19acnjwgm').collect()"
   ]
  },
  {
   "cell_type": "code",
   "execution_count": 16,
   "metadata": {},
   "outputs": [
    {
     "name": "stderr",
     "output_type": "stream",
     "text": [
      "WARNING: No WCS information found in header - using pixel coordinates [aplpy.header]\n"
     ]
    },
    {
     "name": "stdout",
     "output_type": "stream",
     "text": [
      "INFO: Auto-setting vmin to  1.751e+02 [aplpy.core]\n",
      "INFO: Auto-setting vmax to  6.155e+02 [aplpy.core]\n"
     ]
    },
    {
     "name": "stderr",
     "output_type": "stream",
     "text": [
      "WARNING: No WCS information found in header - using pixel coordinates [aplpy.header]\n"
     ]
    },
    {
     "name": "stdout",
     "output_type": "stream",
     "text": [
      "INFO: Auto-setting vmin to  2.006e+02 [aplpy.core]\n",
      "INFO: Auto-setting vmax to  6.345e+02 [aplpy.core]\n"
     ]
    },
    {
     "name": "stderr",
     "output_type": "stream",
     "text": [
      "WARNING: No WCS information found in header - using pixel coordinates [aplpy.header]\n"
     ]
    },
    {
     "name": "stdout",
     "output_type": "stream",
     "text": [
      "INFO: Auto-setting vmin to -3.315e+01 [aplpy.core]\n",
      "INFO: Auto-setting vmax to  4.757e+01 [aplpy.core]\n"
     ]
    },
    {
     "data": {
      "image/png": "[encoded data removed]",
      "text/plain": [
       "<Figure size 864x504 with 3 Axes>"
      ]
     },
     "metadata": {},
     "output_type": "display_data"
    }
   ],
   "source": [
    "from fink_client.visualisation import show_stamps\n",
    "import matplotlib.pyplot as plt\n",
    "import warnings\n",
    "warnings.filterwarnings('ignore')\n",
    "# warnings.simplefilter('ignore')\n",
    "for alert in alerts[0:1]:\n",
    "    fig = plt.figure(figsize=(12, 7))\n",
    "    show_stamps(alert, fig)"
   ]
  },
  {
   "cell_type": "code",
   "execution_count": 17,
   "metadata": {},
   "outputs": [],
   "source": [
    "import ipyaladin.aladin_widget as ipyal"
   ]
  },
  {
   "cell_type": "code",
   "execution_count": 21,
   "metadata": {},
   "outputs": [
    {
     "data": {
      "application/vnd.jupyter.widget-view+json": {
       "model_id": "72d6aaf48e4640ccb850c8acf5ac9a75",
       "version_major": 2,
       "version_minor": 0
      },
      "text/plain": [
       "Aladin(fov=10.0, options=['allow_full_zoomout', 'coo_frame', 'fov', 'full_screen', 'log', 'overlay_survey', 'o…"
      ]
     },
     "metadata": {},
     "output_type": "display_data"
    }
   ],
   "source": [
    "aladin= ipyal.Aladin(survey= 'P/DSS2/red',\n",
    "                              fov= 10,\n",
    "                              target= 'LMC',\n",
    "                              reticle_color= '#ff89ff')\n",
    "aladin"
   ]
  },
  {
   "cell_type": "code",
   "execution_count": 22,
   "metadata": {},
   "outputs": [
    {
     "data": {
      "application/vnd.jupyter.widget-view+json": {
       "model_id": "9755588cfb89487e8b7416ce9c5d4b10",
       "version_major": 2,
       "version_minor": 0
      },
      "text/plain": [
       "Aladin(fov=0.13333333333333333, options=['allow_full_zoomout', 'coo_frame', 'fov', 'full_screen', 'log', 'over…"
      ]
     },
     "metadata": {},
     "output_type": "display_data"
    }
   ],
   "source": [
    "aladin_bis = ipyal.Aladin(survey='P/PanSTARRS/DR1/color-z-zg-g', target='{} {}'.format(alerts[0]['candidate']['ra'], alerts[0]['candidate']['dec']), fov=8./60.)\n",
    "aladin_bis"
   ]
  },
  {
   "cell_type": "code",
   "execution_count": null,
   "metadata": {},
   "outputs": [],
   "source": []
  }
 ],
 "metadata": {
  "hide_input": false,
  "kernelspec": {
   "display_name": "Python 3",
   "language": "python",
   "name": "python3"
  },
  "language_info": {
   "codemirror_mode": {
    "name": "ipython",
    "version": 3
   },
   "file_extension": ".py",
   "mimetype": "text/x-python",
   "name": "python",
   "nbconvert_exporter": "python",
   "pygments_lexer": "ipython3",
   "version": "3.6.5"
  }
 },
 "nbformat": 4,
 "nbformat_minor": 2
}
